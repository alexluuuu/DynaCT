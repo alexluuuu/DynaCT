{
 "cells": [
  {
   "cell_type": "code",
   "execution_count": 139,
   "metadata": {},
   "outputs": [
    {
     "name": "stdout",
     "output_type": "stream",
     "text": [
      "Warning: Cannot change to a different GUI toolkit: notebook. Using widget instead.\n"
     ]
    }
   ],
   "source": [
    "import numpy as np\n",
    "import os \n",
    "import pickle \n",
    "\n",
    "import matplotlib.pyplot as plt\n",
    "from mpl_toolkits.mplot3d import Axes3D\n",
    "import mpl_toolkits.mplot3d.axes3d as p3\n",
    "import mpl_toolkits.mplot3d as plt3d\n",
    "import matplotlib.animation as animation\n",
    "\n",
    "%matplotlib notebook\n"
   ]
  },
  {
   "cell_type": "code",
   "execution_count": 120,
   "metadata": {},
   "outputs": [],
   "source": [
    "segmentation_list = [\n",
    "(\"/Users/Alex/Downloads/IR_134/Segmentation RT 134/Segmentation RT 134.seg.nrrd\", \"Segmentation RT 134\"),\n",
    "(\"/Users/Alex/Downloads/IR_134/Segmentation LT 134/Segmentation LT 134.seg.nrrd\", \"Segmentation LT 134\"),\n",
    "(\"/Users/Alex/Downloads/IR_138/Segmentation RT 138/Segmentation RT 138.seg.nrrd\", \"Segmentation RT 138\"),\n",
    "(\"/Users/Alex/Downloads/IR_138/Segmentation LT 138/Segmentation LT 138.seg.nrrd\", \"Segmentation LT 138\"),\n",
    "(\"/Users/Alex/Downloads/IR_140/Segmentation RT 140/Segmentation RT 140.seg.nrrd\", \"Segmentation RT 140\"),\n",
    "(\"/Users/Alex/Downloads/IR_140/Segmentation LT 140/Segmentation LT 140.seg.nrrd\", \"Segmentation LT 140\"),\n",
    "(\"/Users/Alex/Downloads/IR_144/Segmentation RT 144/Segmentation RT 144.seg.nrrd\", \"Segmentation RT 144\"),\n",
    "(\"/Users/Alex/Downloads/IR_144/Segmentation LT 144/Segmentation LT 144.seg.nrrd\", \"Segmentation LT 144\"),\n",
    "(\"/Users/Alex/Downloads/IR_146/Segmentation RT 146/Segmentation RT 146.seg.nrrd\", \"Segmentation RT 146\"),\n",
    "(\"/Users/Alex/Downloads/IR_146/Segmentation LT 146/Segmentation LT 146.seg.nrrd\", \"Segmentation LT 146\"),\n",
    "(\"/Users/Alex/Downloads/IR_148/Segmentation LT 148/Segmentation LT 148.seg.nrrd\", \"Segmentation LT 148\"),\n",
    "(\"/Users/Alex/Downloads/IR_150/Segmentation RT 150/Segmentation RT 150.seg.nrrd\", \"Segmentation RT 150\"),\n",
    "(\"/Users/Alex/Downloads/IR_150/Segmentation LT 150/Segmentation LT 150.seg.nrrd\", \"Segmentation LT 150\"),\n",
    "(\"/Users/Alex/Downloads/IR_144\\ but\\ not\\ actually/Segmentation RT lly/Segmentation RT 144.seg.nrrd\", \"Segmentation RT 147\"),\n",
    "(\"/Users/Alex/Downloads/IR_144\\ but\\ not\\ actually/Segmentation LT 144/Segmentation LT 144.seg.nrrd\", \"Segmentation LT 147\"),\n",
    "]"
   ]
  },
  {
   "cell_type": "code",
   "execution_count": 121,
   "metadata": {},
   "outputs": [],
   "source": [
    "def read_from_file(name):\n",
    "    '''\n",
    "        Return loaded object given by input name\n",
    "    '''\n",
    "    print 'reading structures from pickle'\n",
    "    print '------------------------------'\n",
    "\n",
    "    path = os.getcwd() + '/pickles/' + name + '.pkl'\n",
    "    file = open(path, 'rb')\n",
    "    new_obj = pickle.load(file)\n",
    "    file.close()\n",
    "\n",
    "    return new_obj"
   ]
  },
  {
   "cell_type": "code",
   "execution_count": 163,
   "metadata": {},
   "outputs": [
    {
     "name": "stdout",
     "output_type": "stream",
     "text": [
      "reading structures from pickle\n",
      "------------------------------\n"
     ]
    }
   ],
   "source": [
    "vis_id = 1\n",
    "mean_shape, Gs, Ws, Ps, corresponded_targets, disparities = read_from_file(\"LOO_\" + segmentation_list[vis_id][1].replace(\" \", \"\"))"
   ]
  },
  {
   "cell_type": "code",
   "execution_count": 164,
   "metadata": {},
   "outputs": [
    {
     "data": {
      "application/vnd.jupyter.widget-view+json": {
       "model_id": "088a8069ebfd4a4e8f25827974c12dcc",
       "version_major": 2,
       "version_minor": 0
      },
      "text/plain": [
       "Q2FudmFzKHRvb2xiYXI9VG9vbGJhcih0b29saXRlbXM9Wyh1J0hvbWUnLCB1J1Jlc2V0IG9yaWdpbmFsIHZpZXcnLCAnaG9tZScsIHUnaG9tZScpLCAodSdCYWNrJywgdSdCYWNrIHRvICBwcmXigKY=\n"
      ]
     },
     "metadata": {},
     "output_type": "display_data"
    },
    {
     "data": {
      "text/plain": [
       "<mpl_toolkits.mplot3d.art3d.Path3DCollection at 0xb6e52ab90>"
      ]
     },
     "execution_count": 164,
     "metadata": {},
     "output_type": "execute_result"
    }
   ],
   "source": [
    "fig = plt.figure()\n",
    "ax = fig.add_subplot(111, projection=\"3d\")\n",
    "ax.scatter(mean_shape[:,0], mean_shape[:,1], mean_shape[:,2])"
   ]
  },
  {
   "cell_type": "code",
   "execution_count": 165,
   "metadata": {},
   "outputs": [
    {
     "data": {
      "application/vnd.jupyter.widget-view+json": {
       "model_id": "f8d40fc3553b42c0a32b2975e84de812",
       "version_major": 2,
       "version_minor": 0
      },
      "text/plain": [
       "Q2FudmFzKHRvb2xiYXI9VG9vbGJhcih0b29saXRlbXM9Wyh1J0hvbWUnLCB1J1Jlc2V0IG9yaWdpbmFsIHZpZXcnLCAnaG9tZScsIHUnaG9tZScpLCAodSdCYWNrJywgdSdCYWNrIHRvICBwcmXigKY=\n"
      ]
     },
     "metadata": {},
     "output_type": "display_data"
    },
    {
     "data": {
      "text/plain": [
       "Text(0.5,0.98,'Deformations of mean shape onto each shape; shape #1 left out')"
      ]
     },
     "execution_count": 165,
     "metadata": {},
     "output_type": "execute_result"
    }
   ],
   "source": [
    "fig = plt.figure()\n",
    "\n",
    "for register_idx in range(len(corresponded_targets)):\n",
    "    if register_idx > len(corresponded_targets): \n",
    "        break\n",
    "    ax = fig.add_subplot(3, 5, register_idx + 1, projection='3d')\n",
    "\n",
    "    # target_cloud = corresponded_targets[vis_idx]\n",
    "    # ax.scatter(target_cloud[:,0], target_cloud[:,1], target_cloud[:,2])\n",
    "\n",
    "    transformed = mean_shape + np.dot(Gs[register_idx], Ws[register_idx])\n",
    "    ax.scatter(transformed[::5,0], transformed[::5,1], transformed[::5,2])\n",
    "\n",
    "    corresponded = corresponded_targets[register_idx]\n",
    "    ax.scatter(corresponded[::5,0], corresponded[::5,1], corresponded[::5,2])\n",
    "\n",
    "    shape_num = register_idx + 1 if vis_id <= register_idx else register_idx\n",
    "    ax.set_title('Shape #%d'%shape_num)\n",
    "\n",
    "fig.suptitle(\"Deformations of mean shape onto each shape; shape #%d left out\"%vis_id)"
   ]
  },
  {
   "cell_type": "code",
   "execution_count": 153,
   "metadata": {},
   "outputs": [
    {
     "data": {
      "text/plain": [
       "((14, 14), (14,), (14, 1500))"
      ]
     },
     "execution_count": 153,
     "metadata": {},
     "output_type": "execute_result"
    }
   ],
   "source": [
    "deformations = np.array([np.dot(G, W) for G, W in zip(Gs, Ws)])\n",
    "nshape, npoint, nd = deformations.shape\n",
    "deformations = deformations.reshape((nshape, npoint*nd), order=\"F\")\n",
    "u, s, vh = np.linalg.svd(deformations, full_matrices=False)\n",
    "u.shape, s.shape, vh.shape"
   ]
  },
  {
   "cell_type": "code",
   "execution_count": 154,
   "metadata": {
    "scrolled": false
   },
   "outputs": [
    {
     "data": {
      "application/vnd.jupyter.widget-view+json": {
       "model_id": "b2fc8b28bbed40c3aae793bbf951527b",
       "version_major": 2,
       "version_minor": 0
      },
      "text/plain": [
       "Q2FudmFzKHRvb2xiYXI9VG9vbGJhcih0b29saXRlbXM9Wyh1J0hvbWUnLCB1J1Jlc2V0IG9yaWdpbmFsIHZpZXcnLCAnaG9tZScsIHUnaG9tZScpLCAodSdCYWNrJywgdSdCYWNrIHRvICBwcmXigKY=\n"
      ]
     },
     "metadata": {},
     "output_type": "display_data"
    },
    {
     "data": {
      "text/plain": [
       "Text(0.5,1,'Variance Explained by Each PC')"
      ]
     },
     "execution_count": 154,
     "metadata": {},
     "output_type": "execute_result"
    }
   ],
   "source": [
    "fig, ax = plt.subplots()\n",
    "ax.plot(np.arange(len(s)), np.square(s)/np.sum(np.square(s)))\n",
    "ax.set_xlabel(\"Principal Component Number\")\n",
    "ax.set_ylabel(\"Percentage of Variance Explained\")\n",
    "ax.set_title(\"Variance Explained by Each PC\")"
   ]
  },
  {
   "cell_type": "markdown",
   "metadata": {},
   "source": [
    "## Low Rank Approximation of Deformation Fields"
   ]
  },
  {
   "cell_type": "markdown",
   "metadata": {},
   "source": [
    "We have $$X = USV^T$$\n",
    "\n",
    "Rank-$k$ approximation determined by $$X \\approx U_k S_k V_k^T$$"
   ]
  },
  {
   "cell_type": "code",
   "execution_count": 155,
   "metadata": {
    "scrolled": false
   },
   "outputs": [
    {
     "name": "stdout",
     "output_type": "stream",
     "text": [
      "(14, 1500)\n"
     ]
    },
    {
     "data": {
      "application/vnd.jupyter.widget-view+json": {
       "model_id": "ce9a2f9ae2d84ef4b86df7d2fac16652",
       "version_major": 2,
       "version_minor": 0
      },
      "text/plain": [
       "Q2FudmFzKHRvb2xiYXI9VG9vbGJhcih0b29saXRlbXM9Wyh1J0hvbWUnLCB1J1Jlc2V0IG9yaWdpbmFsIHZpZXcnLCAnaG9tZScsIHUnaG9tZScpLCAodSdCYWNrJywgdSdCYWNrIHRvICBwcmXigKY=\n"
      ]
     },
     "metadata": {},
     "output_type": "display_data"
    },
    {
     "data": {
      "text/plain": [
       "<matplotlib.legend.Legend at 0x157cbb090>"
      ]
     },
     "execution_count": 155,
     "metadata": {},
     "output_type": "execute_result"
    }
   ],
   "source": [
    "k = 14\n",
    "approx = np.matmul(np.matmul(u[:,:k], np.diag(s[:k])), vh[:k,:])\n",
    "print approx.shape\n",
    "\n",
    "fig = plt.figure()\n",
    "ax = fig.add_subplot(111, projection='3d')\n",
    "\n",
    "for view in range(14): \n",
    "    rough = approx[view].reshape((approx.shape[-1]/3, 3), order=\"F\")\n",
    "    rough += mean_shape\n",
    "    ax.scatter(rough[:,0], rough[:,1], rough[:,2], label=view)\n",
    "    \n",
    "ax.legend()\n",
    "\n",
    "# ax.scatter(source_cloud[:,0], source_cloud[:,1], source_cloud[:,2])\n",
    "\n"
   ]
  },
  {
   "cell_type": "markdown",
   "metadata": {},
   "source": [
    "We can see that low rank approximations of the deformation + initial mean shape recapitulate the unaligned shapes that were directly extracted from Slicer. (Expected) "
   ]
  },
  {
   "cell_type": "markdown",
   "metadata": {},
   "source": [
    "## Visualization of Principal Components of the Deformation Field"
   ]
  },
  {
   "cell_type": "code",
   "execution_count": 156,
   "metadata": {},
   "outputs": [
    {
     "data": {
      "application/vnd.jupyter.widget-view+json": {
       "model_id": "a08ab60879d6456488b7bf9e5dd8131b",
       "version_major": 2,
       "version_minor": 0
      },
      "text/plain": [
       "Q2FudmFzKHRvb2xiYXI9VG9vbGJhcih0b29saXRlbXM9Wyh1J0hvbWUnLCB1J1Jlc2V0IG9yaWdpbmFsIHZpZXcnLCAnaG9tZScsIHUnaG9tZScpLCAodSdCYWNrJywgdSdCYWNrIHRvICBwcmXigKY=\n"
      ]
     },
     "metadata": {},
     "output_type": "display_data"
    },
    {
     "data": {
      "text/plain": [
       "Text(0.5,0.92,'Principal Component #0')"
      ]
     },
     "execution_count": 156,
     "metadata": {},
     "output_type": "execute_result"
    }
   ],
   "source": [
    "pc_idx = 0\n",
    "\n",
    "fig = plt.figure()\n",
    "ax = fig.add_subplot(111, projection='3d')\n",
    "\n",
    "pc = vh[pc_idx,:]\n",
    "pc = pc.reshape((vh.shape[-1]/3, 3), order=\"F\")\n",
    "ax.scatter(pc[:, 0], pc[:, 1], pc[:, 2])\n",
    "\n",
    "\n",
    "ax.set_title(\"Principal Component #%d\"%pc_idx)"
   ]
  },
  {
   "cell_type": "code",
   "execution_count": 157,
   "metadata": {},
   "outputs": [],
   "source": [
    "import ipyvolume as ipv"
   ]
  },
  {
   "cell_type": "markdown",
   "metadata": {},
   "source": [
    "## Wiggling with the first mode"
   ]
  },
  {
   "cell_type": "code",
   "execution_count": 158,
   "metadata": {
    "scrolled": false
   },
   "outputs": [
    {
     "data": {
      "application/vnd.jupyter.widget-view+json": {
       "model_id": "8af291a2f83b46a397e2ea47da6d5caf",
       "version_major": 2,
       "version_minor": 0
      },
      "text/plain": [
       "VkJveChjaGlsZHJlbj0oRmlndXJlKGFuaW1hdGlvbj0yMDAuMCwgY2FtZXJhPVBlcnNwZWN0aXZlQ2FtZXJhKGZvdj00Ni4wLCBwb3NpdGlvbj0oMC4wLCAwLjAsIDIuMCksIHF1YXRlcm5pb27igKY=\n"
      ]
     },
     "metadata": {},
     "output_type": "display_data"
    }
   ],
   "source": [
    "pc_idx = 0\n",
    "n_loops = 100\n",
    "scales = 20*np.sin(np.arange(-2*np.pi, 2*np.pi))\n",
    "\n",
    "ipv.figure()\n",
    "\n",
    "all_frames = []\n",
    "for scale in scales: \n",
    "    pc = vh[pc_idx,:].reshape((vh.shape[-1]/3, 3), order=\"F\")\n",
    "    X = mean_shape + pc*scale\n",
    "    all_frames.append(X)\n",
    "\n",
    "all_frames = np.array(all_frames)\n",
    "    \n",
    "s = ipv.scatter(all_frames[:, :, 0], all_frames[:, :, 1], all_frames[:, :, 2])\n",
    "\n",
    "ipv.xyzlim(-8, 8)\n",
    "\n",
    "ipv.animation_control(s)\n",
    "ipv.show()"
   ]
  },
  {
   "cell_type": "markdown",
   "metadata": {},
   "source": [
    "## Wiggling of the second mode"
   ]
  },
  {
   "cell_type": "code",
   "execution_count": 159,
   "metadata": {},
   "outputs": [
    {
     "data": {
      "application/vnd.jupyter.widget-view+json": {
       "model_id": "44dd2c307cfd4f159e49ff607c37185f",
       "version_major": 2,
       "version_minor": 0
      },
      "text/plain": [
       "VkJveChjaGlsZHJlbj0oRmlndXJlKGFuaW1hdGlvbj0yMDAuMCwgY2FtZXJhPVBlcnNwZWN0aXZlQ2FtZXJhKGZvdj00Ni4wLCBwb3NpdGlvbj0oMC4wLCAwLjAsIDIuMCksIHF1YXRlcm5pb27igKY=\n"
      ]
     },
     "metadata": {},
     "output_type": "display_data"
    }
   ],
   "source": [
    "pc_idx = 1\n",
    "n_loops = 100\n",
    "scales = 20*np.sin(np.arange(-2*np.pi, 2*np.pi))\n",
    "\n",
    "ipv.figure()\n",
    "\n",
    "all_frames = []\n",
    "for scale in scales: \n",
    "    pc = vh[pc_idx,:].reshape((vh.shape[-1]/3, 3), order=\"F\")\n",
    "    X = mean_shape + pc*scale\n",
    "    all_frames.append(X)\n",
    "\n",
    "all_frames = np.array(all_frames)\n",
    "    \n",
    "s = ipv.scatter(all_frames[:, :, 0], all_frames[:, :, 1], all_frames[:, :, 2])\n",
    "\n",
    "ipv.xyzlim(-8, 8)\n",
    "\n",
    "ipv.animation_control(s)\n",
    "ipv.show()"
   ]
  },
  {
   "cell_type": "code",
   "execution_count": 132,
   "metadata": {},
   "outputs": [
    {
     "name": "stdout",
     "output_type": "stream",
     "text": [
      "reading structures from pickle\n",
      "------------------------------\n",
      "reading structures from pickle\n",
      "------------------------------\n",
      "reading structures from pickle\n",
      "------------------------------\n",
      "reading structures from pickle\n",
      "------------------------------\n",
      "reading structures from pickle\n",
      "------------------------------\n",
      "reading structures from pickle\n",
      "------------------------------\n",
      "reading structures from pickle\n",
      "------------------------------\n",
      "reading structures from pickle\n",
      "------------------------------\n",
      "reading structures from pickle\n",
      "------------------------------\n",
      "reading structures from pickle\n",
      "------------------------------\n",
      "reading structures from pickle\n",
      "------------------------------\n",
      "reading structures from pickle\n",
      "------------------------------\n",
      "reading structures from pickle\n",
      "------------------------------\n",
      "reading structures from pickle\n",
      "------------------------------\n",
      "reading structures from pickle\n",
      "------------------------------\n"
     ]
    }
   ],
   "source": [
    "all_means = []\n",
    "all_disparities = []\n",
    "\n",
    "for i, (seg_path, identifier) in enumerate(segmentation_list):\n",
    "    identifier = identifier.replace(\" \", \"\")\n",
    "    mean_shape, _, _, _, _, disparities = read_from_file(\"LOO_\" + segmentation_list[i][1].replace(\" \", \"\"))\n",
    "    all_means.append(mean_shape)\n",
    "    all_disparities.append(disparities)\n",
    "\n",
    "    "
   ]
  },
  {
   "cell_type": "code",
   "execution_count": 160,
   "metadata": {},
   "outputs": [
    {
     "data": {
      "application/vnd.jupyter.widget-view+json": {
       "model_id": "0ee04532698a45339ac8f9ba49bcc64d",
       "version_major": 2,
       "version_minor": 0
      },
      "text/plain": [
       "Q2FudmFzKHRvb2xiYXI9VG9vbGJhcih0b29saXRlbXM9Wyh1J0hvbWUnLCB1J1Jlc2V0IG9yaWdpbmFsIHZpZXcnLCAnaG9tZScsIHUnaG9tZScpLCAodSdCYWNrJywgdSdCYWNrIHRvICBwcmXigKY=\n"
      ]
     },
     "metadata": {},
     "output_type": "display_data"
    },
    {
     "data": {
      "text/plain": [
       "<matplotlib.legend.Legend at 0xb6cefc4d0>"
      ]
     },
     "execution_count": 160,
     "metadata": {},
     "output_type": "execute_result"
    }
   ],
   "source": [
    "fig = plt.figure()\n",
    "ax = fig.add_subplot(111, projection='3d')\n",
    "\n",
    "for i, shape in enumerate(all_means): \n",
    "    ax.scatter(shape[:,0], shape[:,1], shape[:,2], label=i)\n",
    "\n",
    "ax.legend()\n",
    "    "
   ]
  },
  {
   "cell_type": "code",
   "execution_count": 161,
   "metadata": {},
   "outputs": [],
   "source": [
    "mean_diffs = np.zeros((len(all_means), len(all_means)))\n",
    "\n",
    "for i, mean1 in enumerate(all_means): \n",
    "    for j, mean2 in enumerate(all_means): \n",
    "        if j >= i: \n",
    "            continue\n",
    "        mean_diffs[i,j] = np.linalg.norm(mean1-mean2)\n"
   ]
  },
  {
   "cell_type": "code",
   "execution_count": 162,
   "metadata": {
    "scrolled": false
   },
   "outputs": [
    {
     "data": {
      "application/vnd.jupyter.widget-view+json": {
       "model_id": "bc40a93d996142dea34c2e23a0eb83f0",
       "version_major": 2,
       "version_minor": 0
      },
      "text/plain": [
       "Q2FudmFzKHRvb2xiYXI9VG9vbGJhcih0b29saXRlbXM9Wyh1J0hvbWUnLCB1J1Jlc2V0IG9yaWdpbmFsIHZpZXcnLCAnaG9tZScsIHUnaG9tZScpLCAodSdCYWNrJywgdSdCYWNrIHRvICBwcmXigKY=\n"
      ]
     },
     "metadata": {},
     "output_type": "display_data"
    }
   ],
   "source": [
    "fig, ax = plt.subplots(figsize=(10,10))\n",
    "im = ax.imshow(mean_diffs, cmap=\"RdBu\")\n",
    "\n",
    "# We want to show all ticks...\n",
    "ax.set_xticks(np.arange(len(all_means)))\n",
    "ax.set_yticks(np.arange(len(all_means)))\n",
    "\n",
    "ax.set_title(\"L2 norm between means from leave-one-out\")\n",
    "fig.tight_layout()\n",
    "plt.colorbar(im)\n",
    "plt.show()"
   ]
  },
  {
   "cell_type": "code",
   "execution_count": 136,
   "metadata": {},
   "outputs": [
    {
     "data": {
      "text/plain": [
       "(15, 14, 500)"
      ]
     },
     "execution_count": 136,
     "metadata": {},
     "output_type": "execute_result"
    }
   ],
   "source": [
    "np.array(all_disparities).shape"
   ]
  },
  {
   "cell_type": "code",
   "execution_count": 137,
   "metadata": {
    "scrolled": false
   },
   "outputs": [
    {
     "data": {
      "application/vnd.jupyter.widget-view+json": {
       "model_id": "",
       "version_major": 2,
       "version_minor": 0
      },
      "text/plain": [
       "Q2FudmFzKHRvb2xiYXI9VG9vbGJhcih0b29saXRlbXM9Wyh1J0hvbWUnLCB1J1Jlc2V0IG9yaWdpbmFsIHZpZXcnLCAnaG9tZScsIHUnaG9tZScpLCAodSdCYWNrJywgdSdCYWNrIHRvICBwcmXigKY=\n"
      ]
     },
     "metadata": {},
     "output_type": "display_data"
    }
   ],
   "source": [
    "disp_vis_id = 1 \n",
    "fig1, ax1 = plt.subplots()\n",
    "ax1.set_title('Residual L2 Error for model with shape %d left out'%disp_vis_id)\n",
    "ax1.boxplot(all_disparities[disp_vis_id])\n",
    "plt.show()"
   ]
  },
  {
   "cell_type": "code",
   "execution_count": 138,
   "metadata": {},
   "outputs": [],
   "source": [
    "plt.close(\"all\")"
   ]
  },
  {
   "cell_type": "code",
   "execution_count": null,
   "metadata": {},
   "outputs": [],
   "source": []
  }
 ],
 "metadata": {
  "kernelspec": {
   "display_name": "Python 2",
   "language": "python",
   "name": "python2"
  },
  "language_info": {
   "codemirror_mode": {
    "name": "ipython",
    "version": 2
   },
   "file_extension": ".py",
   "mimetype": "text/x-python",
   "name": "python",
   "nbconvert_exporter": "python",
   "pygments_lexer": "ipython2",
   "version": "2.7.16"
  }
 },
 "nbformat": 4,
 "nbformat_minor": 2
}
