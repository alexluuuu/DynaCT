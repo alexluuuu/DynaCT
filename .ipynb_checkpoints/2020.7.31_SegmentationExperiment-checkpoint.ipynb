{
 "cells": [
  {
   "cell_type": "code",
   "execution_count": 8,
   "metadata": {},
   "outputs": [
    {
     "name": "stdout",
     "output_type": "stream",
     "text": [
      "Warning: Cannot change to a different GUI toolkit: notebook. Using widget instead.\n"
     ]
    }
   ],
   "source": [
    "import numpy as np\n",
    "import matplotlib.pyplot as plt\n",
    "from mpl_toolkits.mplot3d import Axes3D\n",
    "import mpl_toolkits.mplot3d as plt3d\n",
    "\n",
    "%matplotlib notebook"
   ]
  },
  {
   "cell_type": "code",
   "execution_count": 2,
   "metadata": {},
   "outputs": [],
   "source": [
    "segmentation_list = [\n",
    "(\"/Users/Alex/Downloads/IR_134/Segmentation RT 134/Segmentation RT 134.seg.nrrd\", \"Segmentation RT 134\"),\n",
    "(\"/Users/Alex/Downloads/IR_134/Segmentation LT 134/Segmentation LT 134.seg.nrrd\", \"Segmentation LT 134\"),\n",
    "(\"/Users/Alex/Downloads/IR_138/Segmentation RT 138/Segmentation RT 138.seg.nrrd\", \"Segmentation RT 138\"),\n",
    "(\"/Users/Alex/Downloads/IR_138/Segmentation LT 138/Segmentation LT 138.seg.nrrd\", \"Segmentation LT 138\"),\n",
    "(\"/Users/Alex/Downloads/IR_140/Segmentation RT 140/Segmentation RT 140.seg.nrrd\", \"Segmentation RT 140\"),\n",
    "(\"/Users/Alex/Downloads/IR_140/Segmentation LT 140/Segmentation LT 140.seg.nrrd\", \"Segmentation LT 140\"),\n",
    "(\"/Users/Alex/Downloads/IR_144/Segmentation RT 144/Segmentation RT 144.seg.nrrd\", \"Segmentation RT 144\"),\n",
    "(\"/Users/Alex/Downloads/IR_144/Segmentation LT 144/Segmentation LT 144.seg.nrrd\", \"Segmentation LT 144\"),\n",
    "(\"/Users/Alex/Downloads/IR_146/Segmentation RT 146/Segmentation RT 146.seg.nrrd\", \"Segmentation RT 146\"),\n",
    "(\"/Users/Alex/Downloads/IR_146/Segmentation LT 146/Segmentation LT 146.seg.nrrd\", \"Segmentation LT 146\"),\n",
    "(\"/Users/Alex/Downloads/IR_148/Segmentation LT 148/Segmentation LT 148.seg.nrrd\", \"Segmentation LT 148\"),\n",
    "(\"/Users/Alex/Downloads/IR_150/Segmentation RT 150/Segmentation RT 150.seg.nrrd\", \"Segmentation RT 150\"),\n",
    "(\"/Users/Alex/Downloads/IR_150/Segmentation LT 150/Segmentation LT 150.seg.nrrd\", \"Segmentation LT 150\"),\n",
    "(\"/Users/Alex/Downloads/IR_144\\ but\\ not\\ actually/Segmentation RT lly/Segmentation RT 144.seg.nrrd\", \"Segmentation RT 147\"),\n",
    "(\"/Users/Alex/Downloads/IR_144\\ but\\ not\\ actually/Segmentation LT 144/Segmentation LT 144.seg.nrrd\", \"Segmentation LT 147\"),\n",
    "]\n",
    "\n",
    "save_path = \"/Users/Alex/Documents/TaylorLab/segmentation_raw/\""
   ]
  },
  {
   "cell_type": "code",
   "execution_count": 39,
   "metadata": {},
   "outputs": [],
   "source": [
    "def compute_mapping(initial_shape, shape):\n",
    "    \n",
    "    M = np.dot(shape, initial_shape.T)\n",
    "    te = np.square(shape).sum(axis=1)\n",
    "    tr = np.square(initial_shape).sum(axis=1)\n",
    "    \n",
    "    print(M.shape)\n",
    "    print(te.shape)\n",
    "    print(tr.shape)\n",
    "    dists = np.sqrt(-2*M + np.matrix(tr) + np.matrix(te).T)\n",
    "    \n",
    "    print(dists.shape)\n",
    "\n",
    "    return np.argmin(dists, axis=0) "
   ]
  },
  {
   "cell_type": "code",
   "execution_count": 40,
   "metadata": {},
   "outputs": [],
   "source": [
    "def minimize_distances(points_results, points_source):\n",
    "    \n",
    "    distances = np.sqrt(((points_results - points_source[:, np.newaxis])**2).sum(axis=2))\n",
    "    return (np.argmin(distances, axis=0), np.amin(distances, axis=0))\n"
   ]
  },
  {
   "cell_type": "code",
   "execution_count": 41,
   "metadata": {},
   "outputs": [
    {
     "data": {
      "application/vnd.jupyter.widget-view+json": {
       "model_id": "6fb82f0bde744d92bcfe1422e6dab728",
       "version_major": 2,
       "version_minor": 0
      },
      "text/plain": [
       "Q2FudmFzKHRvb2xiYXI9VG9vbGJhcih0b29saXRlbXM9Wyh1J0hvbWUnLCB1J1Jlc2V0IG9yaWdpbmFsIHZpZXcnLCAnaG9tZScsIHUnaG9tZScpLCAodSdCYWNrJywgdSdCYWNrIHRvICBwcmXigKY=\n"
      ]
     },
     "metadata": {},
     "output_type": "display_data"
    }
   ],
   "source": [
    "bigboy = []\n",
    "n_downsampled = 1300\n",
    "np.random.seed(2020)\n",
    "\n",
    "for seg_path, identifier in segmentation_list:\n",
    "    keep_id = 4\n",
    "    identifier = identifier.replace(\" \", \"\")\n",
    "    \n",
    "    point_cloud = np.load(save_path + identifier + \"_\" + str(keep_id) + \".npy\")\n",
    "    indices = np.random.randint(0, point_cloud.shape[0]-1, size=n_downsampled)\n",
    "    point_cloud = point_cloud - np.mean(point_cloud, axis=0)\n",
    "    if \"LT\" in identifier: \n",
    "        point_cloud[:,0] = -1.*point_cloud[:,0]\n",
    "\n",
    "    point_cloud = point_cloud[indices]\n",
    "    nrow, ncol = point_cloud.shape\n",
    "    point_cloud = np.transpose(point_cloud).reshape(nrow*ncol)\n",
    "    bigboy.append(point_cloud)\n",
    "    \n",
    "feature_array = np.array(bigboy)\n",
    "fig = plt.figure()\n",
    "ax = fig.add_subplot(111, projection='3d')\n",
    "\n",
    "for shape in feature_array[:2]:\n",
    "    shape = shape.reshape((n_downsampled, 3), order=\"F\")\n",
    "    ax.scatter(shape[:,0], shape[:,1], shape[:,2])\n"
   ]
  },
  {
   "cell_type": "code",
   "execution_count": 42,
   "metadata": {
    "scrolled": false
   },
   "outputs": [
    {
     "name": "stdout",
     "output_type": "stream",
     "text": [
      "(1300, 1300)\n",
      "(1300,)\n",
      "(1300,)\n",
      "(1300, 1300)\n"
     ]
    },
    {
     "data": {
      "application/vnd.jupyter.widget-view+json": {
       "model_id": "6727a457fd0641cf990d40322d4e2d64",
       "version_major": 2,
       "version_minor": 0
      },
      "text/plain": [
       "Q2FudmFzKHRvb2xiYXI9VG9vbGJhcih0b29saXRlbXM9Wyh1J0hvbWUnLCB1J1Jlc2V0IG9yaWdpbmFsIHZpZXcnLCAnaG9tZScsIHUnaG9tZScpLCAodSdCYWNrJywgdSdCYWNrIHRvICBwcmXigKY=\n"
      ]
     },
     "metadata": {},
     "output_type": "display_data"
    }
   ],
   "source": [
    "nshape, nfeat = feature_array.shape\n",
    "arr1 = feature_array[0].reshape((nfeat/3, 3), order=\"F\")\n",
    "arr2 = feature_array[1].reshape((nfeat/3, 3), order=\"F\")\n",
    "\n",
    "# print(arr2.shape)\n",
    "# reorder = compute_distances_no_loops(arr1, arr2)\n",
    "reorder = np.array(compute_mapping(arr1, arr2))\n",
    "# print(np.unique(reorder, return_counts=True))\n",
    "\n",
    "# print(reorder.shape)\n",
    "arr2 = np.squeeze(arr2[reorder])\n",
    "\n",
    "# print(arr2.shape)\n",
    "\n",
    "fig = plt.figure()\n",
    "ax = fig.add_subplot(111, projection='3d')\n",
    "\n",
    "for shape in feature_array[:2]:\n",
    "    shape = shape.reshape((nfeat/3, 3), order=\"F\")\n",
    "    ax.scatter(shape[::10,0], shape[::10,1], shape[::10,2])\n",
    "    \n",
    "\n",
    "for i in range(0, nfeat/3, 50):\n",
    "    point1, point2 = arr1[i], arr2[i]\n",
    "    xs = [point1[0], point2[0]]\n",
    "    ys = [point1[1], point2[1]]\n",
    "    zs = [point1[2], point2[2]]\n",
    "    \n",
    "    line = plt3d.art3d.Line3D(xs, ys, zs)\n",
    "    ax.add_line(line)\n"
   ]
  },
  {
   "cell_type": "code",
   "execution_count": 50,
   "metadata": {},
   "outputs": [],
   "source": [
    "plt.close('all')"
   ]
  },
  {
   "cell_type": "code",
   "execution_count": null,
   "metadata": {},
   "outputs": [],
   "source": []
  }
 ],
 "metadata": {
  "kernelspec": {
   "display_name": "Python 2",
   "language": "python",
   "name": "python2"
  },
  "language_info": {
   "codemirror_mode": {
    "name": "ipython",
    "version": 2
   },
   "file_extension": ".py",
   "mimetype": "text/x-python",
   "name": "python",
   "nbconvert_exporter": "python",
   "pygments_lexer": "ipython2",
   "version": "2.7.16"
  }
 },
 "nbformat": 4,
 "nbformat_minor": 2
}
