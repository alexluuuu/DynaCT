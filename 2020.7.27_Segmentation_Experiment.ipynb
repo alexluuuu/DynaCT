{
 "cells": [
  {
   "cell_type": "code",
   "execution_count": 1,
   "metadata": {},
   "outputs": [
    {
     "data": {
      "text/plain": []
     },
     "execution_count": 1,
     "metadata": {},
     "output_type": "execute_result"
    }
   ],
   "source": [
    "import numpy as np\n",
    "import slicer\n",
    "import vtk\n",
    "import vtk.util.numpy_support as nps"
   ]
  },
  {
   "cell_type": "code",
   "execution_count": 127,
   "metadata": {},
   "outputs": [
    {
     "data": {
      "text/plain": []
     },
     "execution_count": 127,
     "metadata": {},
     "output_type": "execute_result"
    }
   ],
   "source": [
    "segmentation_list = [\n",
    "(\"/Users/Alex/Downloads/IR_134/Segmentation RT 134/Segmentation RT 134.seg.nrrd\", \"Segmentation RT 134\"),\n",
    "(\"/Users/Alex/Downloads/IR_134/Segmentation LT 134/Segmentation LT 134.seg.nrrd\", \"Segmentation LT 134\"),\n",
    "(\"/Users/Alex/Downloads/IR_138/Segmentation RT 138/Segmentation RT 138.seg.nrrd\", \"Segmentation RT 138\"),\n",
    "(\"/Users/Alex/Downloads/IR_138/Segmentation LT 138/Segmentation LT 138.seg.nrrd\", \"Segmentation LT 138\"),\n",
    "(\"/Users/Alex/Downloads/IR_140/Segmentation RT 140/Segmentation RT 140.seg.nrrd\", \"Segmentation RT 140\"),\n",
    "(\"/Users/Alex/Downloads/IR_140/Segmentation LT 140/Segmentation LT 140.seg.nrrd\", \"Segmentation LT 140\"),\n",
    "(\"/Users/Alex/Downloads/IR_144/Segmentation RT 144/Segmentation RT 144.seg.nrrd\", \"Segmentation RT 144\"),\n",
    "(\"/Users/Alex/Downloads/IR_144/Segmentation LT 144/Segmentation LT 144.seg.nrrd\", \"Segmentation LT 144\"),\n",
    "(\"/Users/Alex/Downloads/IR_146/Segmentation RT 146/Segmentation RT 146.seg.nrrd\", \"Segmentation RT 146\"),\n",
    "(\"/Users/Alex/Downloads/IR_146/Segmentation LT 146/Segmentation LT 146.seg.nrrd\", \"Segmentation LT 146\"),\n",
    "(\"/Users/Alex/Downloads/IR_148/Segmentation LT 148/Segmentation LT 148.seg.nrrd\", \"Segmentation LT 148\"),\n",
    "(\"/Users/Alex/Downloads/IR_150/Segmentation RT 150/Segmentation RT 150.seg.nrrd\", \"Segmentation RT 150\"),\n",
    "(\"/Users/Alex/Downloads/IR_150/Segmentation LT 150/Segmentation LT 150.seg.nrrd\", \"Segmentation LT 150\"),\n",
    "(\"/Users/Alex/Downloads/IR_144\\ but\\ not\\ actually/Segmentation RT lly/Segmentation RT 144.seg.nrrd\", \"Segmentation RT 147\"),\n",
    "(\"/Users/Alex/Downloads/IR_144\\ but\\ not\\ actually/Segmentation LT 144/Segmentation LT 144.seg.nrrd\", \"Segmentation LT 147\"),\n",
    "]\n",
    "\n",
    "save_path = \"/Users/Alex/Documents/TaylorLab/segmentation_raw/\""
   ]
  },
  {
   "cell_type": "code",
   "execution_count": 132,
   "metadata": {},
   "outputs": [
    {
     "data": {
      "text/plain": []
     },
     "execution_count": 132,
     "metadata": {},
     "output_type": "execute_result"
    }
   ],
   "source": [
    "i = 14\n",
    "segmentation_path, identifier = segmentation_list[i]\n",
    "\n",
    "keep = [i for i in range(16)]\n",
    "\n",
    "\n",
    "\n"
   ]
  },
  {
   "cell_type": "code",
   "execution_count": 133,
   "metadata": {},
   "outputs": [
    {
     "data": {
      "text/plain": [
       "('/Users/Alex/Downloads/IR_144\\\\ but\\\\ not\\\\ actually/Segmentation LT 144/Segmentation LT 144.seg.nrrd', 'Segmentation LT 147')\n"
      ]
     },
     "execution_count": 133,
     "metadata": {},
     "output_type": "execute_result"
    }
   ],
   "source": [
    "print(segmentation_path, identifier)"
   ]
  },
  {
   "cell_type": "code",
   "execution_count": 37,
   "metadata": {
    "scrolled": true
   },
   "outputs": [
    {
     "data": {
      "text/plain": []
     },
     "execution_count": 37,
     "metadata": {},
     "output_type": "execute_result"
    }
   ],
   "source": [
    "segmentation = slicer.util.loadSegmentation(segmentation_path)"
   ]
  },
  {
   "cell_type": "code",
   "execution_count": 38,
   "metadata": {},
   "outputs": [
    {
     "data": {
      "text/plain": []
     },
     "execution_count": 38,
     "metadata": {},
     "output_type": "execute_result"
    }
   ],
   "source": [
    "segmentation"
   ]
  },
  {
   "cell_type": "code",
   "execution_count": 136,
   "metadata": {},
   "outputs": [
    {
     "data": {
      "text/plain": [
       "Traceback (most recent call last):\n",
       "  File \"<string>\", line 9, in <module>\n",
       "AttributeError: 'NoneType' object has no attribute 'GetData'\n"
      ]
     },
     "execution_count": 136,
     "metadata": {},
     "output_type": "execute_result"
    }
   ],
   "source": [
    "segmentationNode = getNode(identifier)\n",
    "\n",
    "for keep_id in keep: \n",
    "    print identifier\n",
    "    print keep_id\n",
    "    \n",
    "    segmentId = segmentationNode.GetSegmentation().GetNthSegmentID(keep_id)\n",
    "    segmentPolyData = segmentationNode.GetClosedSurfaceRepresentation(segmentId)\n",
    "    pointData = segmentPolyData.GetPoints().GetData()\n",
    "    pointCoordinates = nps.vtk_to_numpy(pointData)\n",
    "    \n",
    "    with open(save_path + identifier.replace(\" \", \"\") + \"_\" + str(keep_id) + \".npy\", \"wb\") as f: \n",
    "        print pointCoordinates.shape\n",
    "        np.save(f, pointCoordinates)\n",
    "        \n",
    "    \n",
    "    \n",
    "    if keep_id == 0:\n",
    "        new = vtk.vtkXMLPolyDataWriter()\n",
    "        new.SetInputData(segmentPolyData)\n",
    "        new.SetFileName(save_path + identifier.replace(\" \", \"\") + \"_\" + str(keep_id) + \".vtp\")\n",
    "        new.Write()"
   ]
  },
  {
   "cell_type": "code",
   "execution_count": null,
   "metadata": {},
   "outputs": [],
   "source": []
  },
  {
   "cell_type": "code",
   "execution_count": 17,
   "metadata": {},
   "outputs": [
    {
     "data": {
      "text/plain": []
     },
     "execution_count": 17,
     "metadata": {},
     "output_type": "execute_result"
    }
   ],
   "source": []
  },
  {
   "cell_type": "code",
   "execution_count": 6,
   "metadata": {
    "scrolled": true
   },
   "outputs": [
    {
     "data": {
      "text/plain": [
       "Traceback (most recent call last):\n",
       "  File \"<string>\", line 1, in <module>\n",
       "NameError: name 'segmentationNode' is not defined\n"
      ]
     },
     "execution_count": 6,
     "metadata": {},
     "output_type": "execute_result"
    }
   ],
   "source": []
  },
  {
   "cell_type": "code",
   "execution_count": 15,
   "metadata": {},
   "outputs": [
    {
     "data": {
      "text/plain": []
     },
     "execution_count": 15,
     "metadata": {},
     "output_type": "execute_result"
    }
   ],
   "source": [
    "# print(pointData)"
   ]
  },
  {
   "cell_type": "code",
   "execution_count": 5,
   "metadata": {
    "scrolled": true
   },
   "outputs": [
    {
     "data": {
      "text/plain": []
     },
     "execution_count": 5,
     "metadata": {},
     "output_type": "execute_result"
    }
   ],
   "source": []
  },
  {
   "cell_type": "code",
   "execution_count": 28,
   "metadata": {},
   "outputs": [
    {
     "data": {
      "text/plain": []
     },
     "execution_count": 28,
     "metadata": {},
     "output_type": "execute_result"
    }
   ],
   "source": [
    "# pointCoordinates.shape"
   ]
  },
  {
   "cell_type": "code",
   "execution_count": 20,
   "metadata": {},
   "outputs": [
    {
     "data": {
      "text/plain": [
       "vtkFloatArray (0x7fe89e262930)\n",
       "  Debug: Off\n",
       "  Modified Time: 7182185\n",
       "  Reference Count: 2\n",
       "  Registered Events: (none)\n",
       "  Name: Points\n",
       "  Data type: float\n",
       "  Size: 20368086\n",
       "  MaxId: 20368085\n",
       "  NumberOfComponents: 3\n",
       "  Information: 0x0\n",
       "  Name: Points\n",
       "  Number Of Components: 3\n",
       "  Number Of Tuples: 6789362\n",
       "  Size: 20368086\n",
       "  MaxId: 20368085\n",
       "  LookupTable: (none)\n",
       "\n",
       "\n"
      ]
     },
     "execution_count": 20,
     "metadata": {},
     "output_type": "execute_result"
    }
   ],
   "source": []
  },
  {
   "cell_type": "code",
   "execution_count": null,
   "metadata": {},
   "outputs": [],
   "source": []
  },
  {
   "cell_type": "code",
   "execution_count": 8,
   "metadata": {},
   "outputs": [
    {
     "data": {
      "text/plain": [
       "/Users/Alex/Downloads/IR_134/Segmentation RT 134/Segmentation RT 134.seg.nrrd\n",
       "Segmentation RT 134\n",
       "/Users/Alex/Downloads/IR_134/Segmentation LT 134/Segmentation LT 134.seg.nrrd\n",
       "Segmentation LT 134\n",
       "/Users/Alex/Downloads/IR_138/Segmentation RT 138/Segmentation RT 138.seg.nrrd\n",
       "Segmentation RT 138\n",
       "/Users/Alex/Downloads/IR_138/Segmentation LT 138/Segmentation LT 138.seg.nrrd\n",
       "Segmentation LT 138\n",
       "/Users/Alex/Downloads/IR_140/Segmentation RT 140/Segmentation RT 140.seg.nrrd\n",
       "Segmentation RT 140\n",
       "/Users/Alex/Downloads/IR_140/Segmentation LT 140/Segmentation LT 140.seg.nrrd\n",
       "Segmentation LT 140\n",
       "/Users/Alex/Downloads/IR_144/Segmentation RT 144/Segmentation RT 144.seg.nrrd\n",
       "Segmentation RT 144\n",
       "/Users/Alex/Downloads/IR_144/Segmentation LT 144/Segmentation LT 144.seg.nrrd\n",
       "Segmentation LT 144\n",
       "/Users/Alex/Downloads/IR_146/Segmentation RT 146/Segmentation RT 146.seg.nrrd\n",
       "Segmentation RT 146\n",
       "/Users/Alex/Downloads/IR_146/Segmentation LT 146/Segmentation LT 146.seg.nrrd\n",
       "Segmentation LT 146\n",
       "/Users/Alex/Downloads/IR_148/Segmentation RT 148/Segmentation RT 148.seg.nrrd\n",
       "Segmentation RT 148\n",
       "/Users/Alex/Downloads/IR_148/Segmentation LT 148/Segmentation LT 148.seg.nrrd\n",
       "Segmentation LT 148\n",
       "/Users/Alex/Downloads/IR_150/Segmentation RT 150/Segmentation RT 150.seg.nrrd\n",
       "Segmentation RT 150\n",
       "/Users/Alex/Downloads/IR_150/Segmentation LT 150/Segmentation LT 150.seg.nrrd\n",
       "Segmentation LT 150\n",
       "/Users/Alex/Downloads/IR_144\\ but\\ not\\ actually/Segmentation RT lly/Segmentation RT lly.seg.nrrd\n",
       "Segmentation RT lly\n",
       "/Users/Alex/Downloads/IR_144\\ but\\ not\\ actually/Segmentation LT lly/Segmentation LT lly.seg.nrrd\n",
       "Segmentation LT lly\n"
      ]
     },
     "execution_count": 8,
     "metadata": {},
     "output_type": "execute_result"
    }
   ],
   "source": [
    "# segmentation_base = \"/Users/Alex/Downloads/\"\n",
    "# segmentation_list = [\n",
    "#     \"IR_134\", \n",
    "#     \"IR_138\", \n",
    "# #    \"IR_139\", \n",
    "#     \"IR_140\", \n",
    "# #    \"IR_142\", \n",
    "#     \"IR_144\",\n",
    "#     \"IR_146\", \n",
    "#     \"IR_148\", \n",
    "#     \"IR_150\",\n",
    "#     \"IR_144\\ but\\ not\\ actually\"\n",
    "# ]\n",
    "\n",
    "# options = [\n",
    "#     \"Segmentation RT \",\n",
    "#     \"Segmentation LT \", \n",
    "# ]\n",
    "\n",
    "# pair_list = []\n",
    "# for scan in segmentation_list: \n",
    "#     scan_id = scan[-3:]\n",
    "#     for option in options:\n",
    "        \n",
    "#         file_name = segmentation_base + scan + \"/\" + option + scan_id + \"/\" + option + scan_id + \".seg.nrrd\"\n",
    "#         print(file_name)\n",
    "#         print(option + scan_id)\n",
    "#         pair_list.append((file_name, option + scan_id))\n",
    "        \n",
    "# #         data, header = nrrd.read(file_name)\n",
    "        \n",
    "# #         print data\n",
    "# #         print header\n",
    "        \n",
    "# #         break\n",
    "# #     break\n",
    "    "
   ]
  },
  {
   "cell_type": "code",
   "execution_count": null,
   "metadata": {},
   "outputs": [],
   "source": []
  }
 ],
 "metadata": {
  "kernelspec": {
   "display_name": "Slicer 4.10",
   "language": "python",
   "name": "slicer-4.10"
  },
  "language_info": {
   "codemirror_mode": {
    "name": "ipython",
    "version": 3
   },
   "file_extension": ".py",
   "mimetype": "text/x-python",
   "name": "python",
   "nbconvert_exporter": "python",
   "pygments_lexer": "ipython3",
   "version": "2.7.13+"
  }
 },
 "nbformat": 4,
 "nbformat_minor": 2
}
